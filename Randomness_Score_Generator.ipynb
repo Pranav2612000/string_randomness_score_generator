{
  "nbformat": 4,
  "nbformat_minor": 0,
  "metadata": {
    "colab": {
      "provenance": []
    },
    "kernelspec": {
      "name": "python3",
      "display_name": "Python 3"
    },
    "language_info": {
      "name": "python"
    }
  },
  "cells": [
    {
      "cell_type": "markdown",
      "source": [
        "**Get the list of words**"
      ],
      "metadata": {
        "id": "qlr6Jvf1WWLK"
      }
    },
    {
      "cell_type": "code",
      "execution_count": 1,
      "metadata": {
        "colab": {
          "base_uri": "https://localhost:8080/"
        },
        "id": "VPGZTUFpOzfs",
        "outputId": "d02612aa-d5af-461e-d00a-70b5caa0241c"
      },
      "outputs": [
        {
          "output_type": "stream",
          "name": "stdout",
          "text": [
            "--2023-03-26 04:47:07--  https://raw.githubusercontent.com/dwyl/english-words/master/words.txt\n",
            "Resolving raw.githubusercontent.com (raw.githubusercontent.com)... 185.199.108.133, 185.199.109.133, 185.199.110.133, ...\n",
            "Connecting to raw.githubusercontent.com (raw.githubusercontent.com)|185.199.108.133|:443... connected.\n",
            "HTTP request sent, awaiting response... 200 OK\n",
            "Length: 4862992 (4.6M) [text/plain]\n",
            "Saving to: ‘/tmp/words.txt’\n",
            "\n",
            "/tmp/words.txt      100%[===================>]   4.64M  --.-KB/s    in 0.09s   \n",
            "\n",
            "2023-03-26 04:47:07 (51.6 MB/s) - ‘/tmp/words.txt’ saved [4862992/4862992]\n",
            "\n"
          ]
        }
      ],
      "source": [
        "# Get the dataset from Github\n",
        "!wget --no-check-certificate \\\n",
        "    \"https://raw.githubusercontent.com/dwyl/english-words/master/words.txt\" \\\n",
        "    -O \"/tmp/words.txt\""
      ]
    },
    {
      "cell_type": "markdown",
      "source": [
        "**Open the words for processing**"
      ],
      "metadata": {
        "id": "9HIxHA2MWilu"
      }
    },
    {
      "cell_type": "code",
      "source": [
        "words = open('/tmp/words.txt', 'r').read().splitlines()"
      ],
      "metadata": {
        "id": "_I42Ye0iSOSi"
      },
      "execution_count": 2,
      "outputs": []
    },
    {
      "cell_type": "markdown",
      "source": [
        "**Basic Analysis of the word list**"
      ],
      "metadata": {
        "id": "HyUB5oMRWq_9"
      }
    },
    {
      "cell_type": "code",
      "source": [
        "words[:10]"
      ],
      "metadata": {
        "colab": {
          "base_uri": "https://localhost:8080/"
        },
        "id": "AHbk0lNBSe2Q",
        "outputId": "84149abb-802c-4064-808b-7ac52e6b8e08"
      },
      "execution_count": 3,
      "outputs": [
        {
          "output_type": "execute_result",
          "data": {
            "text/plain": [
              "['2',\n",
              " '1080',\n",
              " '&c',\n",
              " '10-point',\n",
              " '10th',\n",
              " '11-point',\n",
              " '12-point',\n",
              " '16-point',\n",
              " '18-point',\n",
              " '1st']"
            ]
          },
          "metadata": {},
          "execution_count": 3
        }
      ]
    },
    {
      "cell_type": "code",
      "source": [
        "len(words)"
      ],
      "metadata": {
        "colab": {
          "base_uri": "https://localhost:8080/"
        },
        "id": "4NhI5cm_SjGw",
        "outputId": "d09230a6-2c5e-47ca-b813-7bd2671afa1b"
      },
      "execution_count": 4,
      "outputs": [
        {
          "output_type": "execute_result",
          "data": {
            "text/plain": [
              "466550"
            ]
          },
          "metadata": {},
          "execution_count": 4
        }
      ]
    },
    {
      "cell_type": "code",
      "source": [
        "min(len(word) for word in words)"
      ],
      "metadata": {
        "colab": {
          "base_uri": "https://localhost:8080/"
        },
        "id": "eXN7qxPLSnuY",
        "outputId": "6065259d-e114-4c1d-b99e-f4fc64afda7b"
      },
      "execution_count": 5,
      "outputs": [
        {
          "output_type": "execute_result",
          "data": {
            "text/plain": [
              "1"
            ]
          },
          "metadata": {},
          "execution_count": 5
        }
      ]
    },
    {
      "cell_type": "code",
      "source": [
        "max(len(word) for word in words)"
      ],
      "metadata": {
        "colab": {
          "base_uri": "https://localhost:8080/"
        },
        "id": "OmS3TVqOSq-h",
        "outputId": "e52c2033-aee2-4fe3-9207-25bad5cb17e8"
      },
      "execution_count": 6,
      "outputs": [
        {
          "output_type": "execute_result",
          "data": {
            "text/plain": [
              "45"
            ]
          },
          "metadata": {},
          "execution_count": 6
        }
      ]
    },
    {
      "cell_type": "markdown",
      "source": [],
      "metadata": {
        "id": "ra0nYsKhYlpJ"
      }
    },
    {
      "cell_type": "markdown",
      "source": [
        "**Preprocess the words**"
      ],
      "metadata": {
        "id": "YfEuX6R3YlxE"
      }
    },
    {
      "cell_type": "code",
      "source": [
        "words = [word.lower() for word in words]"
      ],
      "metadata": {
        "id": "ix74dxFeYoK3"
      },
      "execution_count": 27,
      "outputs": []
    },
    {
      "cell_type": "markdown",
      "source": [
        "**Create a 2D Bigram**"
      ],
      "metadata": {
        "id": "71wNnFveWxZu"
      }
    },
    {
      "cell_type": "code",
      "source": [
        "b = {}\n",
        "for w in words:\n",
        "  chs = ['<S>'] + list(w) + ['<E>']\n",
        "  for ch1, ch2 in zip(chs, chs[1:]):\n",
        "    bigram = (ch1, ch2)\n",
        "    b[bigram] = b.get(bigram, 0) + 1"
      ],
      "metadata": {
        "id": "CwMb1z3ETLPO"
      },
      "execution_count": 28,
      "outputs": []
    },
    {
      "cell_type": "code",
      "source": [
        "sorted(b.items(), key = lambda kv: -kv[1])"
      ],
      "metadata": {
        "id": "098KA36YVMtL"
      },
      "execution_count": null,
      "outputs": []
    },
    {
      "cell_type": "markdown",
      "source": [
        "**Create the bigram using Pytorch**"
      ],
      "metadata": {
        "id": "Ug_kw_qqX300"
      }
    },
    {
      "cell_type": "code",
      "source": [
        "import torch"
      ],
      "metadata": {
        "id": "dh-h1_6HW79o"
      },
      "execution_count": 30,
      "outputs": []
    },
    {
      "cell_type": "code",
      "source": [
        "N = torch.zeros((45, 45), dtype=torch.int32)"
      ],
      "metadata": {
        "id": "o9Dvy2mtW-An"
      },
      "execution_count": 38,
      "outputs": []
    },
    {
      "cell_type": "code",
      "source": [
        "chars = sorted(list(set(''.join(words))))\n",
        "stoi = {s:i for i,s in enumerate(chars)}\n",
        "stoi['<S>'] = 43;\n",
        "stoi['<E>'] = 44;\n",
        "\n",
        "itos = {i:s for s,i in stoi.items()}"
      ],
      "metadata": {
        "id": "FF5VBihEYCDp"
      },
      "execution_count": 40,
      "outputs": []
    },
    {
      "cell_type": "code",
      "source": [
        "b = {}\n",
        "for w in words:\n",
        "  chs = ['<S>'] + list(w) + ['<E>']\n",
        "  for ch1, ch2 in zip(chs, chs[1:]):\n",
        "    ix1 = stoi[ch1]\n",
        "    ix2 = stoi[ch2]\n",
        "    N[ix1][ix2] += 1"
      ],
      "metadata": {
        "id": "OBb9QplsXh5J"
      },
      "execution_count": 39,
      "outputs": []
    },
    {
      "cell_type": "code",
      "source": [
        "N"
      ],
      "metadata": {
        "colab": {
          "base_uri": "https://localhost:8080/"
        },
        "id": "GR3KVeYFaVrU",
        "outputId": "7bea293e-bb8b-4f38-afff-2b00cef0eef4"
      },
      "execution_count": 41,
      "outputs": [
        {
          "output_type": "execute_result",
          "data": {
            "text/plain": [
              "tensor([[   0,    0,    0,  ...,    0,    0,    2],\n",
              "        [   0,    0,    0,  ...,    0,    0,    0],\n",
              "        [   0,    0,    0,  ...,    0,    0,   29],\n",
              "        ...,\n",
              "        [   0,    0,    2,  ...,  696,    0,  593],\n",
              "        [   0,    1,   33,  ..., 1822,    0,    0],\n",
              "        [   0,    0,    0,  ...,    0,    0,    0]], dtype=torch.int32)"
            ]
          },
          "metadata": {},
          "execution_count": 41
        }
      ]
    }
  ]
}