{
  "nbformat": 4,
  "nbformat_minor": 0,
  "metadata": {
    "colab": {
      "provenance": []
    },
    "kernelspec": {
      "name": "python3",
      "display_name": "Python 3"
    },
    "language_info": {
      "name": "python"
    }
  },
  "cells": [
    {
      "cell_type": "code",
      "execution_count": 1,
      "metadata": {
        "colab": {
          "base_uri": "https://localhost:8080/"
        },
        "id": "VPGZTUFpOzfs",
        "outputId": "d02612aa-d5af-461e-d00a-70b5caa0241c"
      },
      "outputs": [
        {
          "output_type": "stream",
          "name": "stdout",
          "text": [
            "--2023-03-26 04:47:07--  https://raw.githubusercontent.com/dwyl/english-words/master/words.txt\n",
            "Resolving raw.githubusercontent.com (raw.githubusercontent.com)... 185.199.108.133, 185.199.109.133, 185.199.110.133, ...\n",
            "Connecting to raw.githubusercontent.com (raw.githubusercontent.com)|185.199.108.133|:443... connected.\n",
            "HTTP request sent, awaiting response... 200 OK\n",
            "Length: 4862992 (4.6M) [text/plain]\n",
            "Saving to: ‘/tmp/words.txt’\n",
            "\n",
            "/tmp/words.txt      100%[===================>]   4.64M  --.-KB/s    in 0.09s   \n",
            "\n",
            "2023-03-26 04:47:07 (51.6 MB/s) - ‘/tmp/words.txt’ saved [4862992/4862992]\n",
            "\n"
          ]
        }
      ],
      "source": [
        "# Get the dataset from Github\n",
        "!wget --no-check-certificate \\\n",
        "    \"https://raw.githubusercontent.com/dwyl/english-words/master/words.txt\" \\\n",
        "    -O \"/tmp/words.txt\""
      ]
    }
  ]
}