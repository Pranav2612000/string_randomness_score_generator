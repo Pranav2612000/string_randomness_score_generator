{
  "nbformat": 4,
  "nbformat_minor": 0,
  "metadata": {
    "colab": {
      "provenance": []
    },
    "kernelspec": {
      "name": "python3",
      "display_name": "Python 3"
    },
    "language_info": {
      "name": "python"
    }
  },
  "cells": [
    {
      "cell_type": "code",
      "execution_count": 1,
      "metadata": {
        "colab": {
          "base_uri": "https://localhost:8080/"
        },
        "id": "VPGZTUFpOzfs",
        "outputId": "d02612aa-d5af-461e-d00a-70b5caa0241c"
      },
      "outputs": [
        {
          "output_type": "stream",
          "name": "stdout",
          "text": [
            "--2023-03-26 04:47:07--  https://raw.githubusercontent.com/dwyl/english-words/master/words.txt\n",
            "Resolving raw.githubusercontent.com (raw.githubusercontent.com)... 185.199.108.133, 185.199.109.133, 185.199.110.133, ...\n",
            "Connecting to raw.githubusercontent.com (raw.githubusercontent.com)|185.199.108.133|:443... connected.\n",
            "HTTP request sent, awaiting response... 200 OK\n",
            "Length: 4862992 (4.6M) [text/plain]\n",
            "Saving to: ‘/tmp/words.txt’\n",
            "\n",
            "/tmp/words.txt      100%[===================>]   4.64M  --.-KB/s    in 0.09s   \n",
            "\n",
            "2023-03-26 04:47:07 (51.6 MB/s) - ‘/tmp/words.txt’ saved [4862992/4862992]\n",
            "\n"
          ]
        }
      ],
      "source": [
        "# Get the dataset from Github\n",
        "!wget --no-check-certificate \\\n",
        "    \"https://raw.githubusercontent.com/dwyl/english-words/master/words.txt\" \\\n",
        "    -O \"/tmp/words.txt\""
      ]
    },
    {
      "cell_type": "code",
      "source": [
        "words = open('/tmp/words.txt', 'r').read().splitlines()"
      ],
      "metadata": {
        "id": "_I42Ye0iSOSi"
      },
      "execution_count": 2,
      "outputs": []
    },
    {
      "cell_type": "code",
      "source": [
        "words[:10]"
      ],
      "metadata": {
        "colab": {
          "base_uri": "https://localhost:8080/"
        },
        "id": "AHbk0lNBSe2Q",
        "outputId": "84149abb-802c-4064-808b-7ac52e6b8e08"
      },
      "execution_count": 3,
      "outputs": [
        {
          "output_type": "execute_result",
          "data": {
            "text/plain": [
              "['2',\n",
              " '1080',\n",
              " '&c',\n",
              " '10-point',\n",
              " '10th',\n",
              " '11-point',\n",
              " '12-point',\n",
              " '16-point',\n",
              " '18-point',\n",
              " '1st']"
            ]
          },
          "metadata": {},
          "execution_count": 3
        }
      ]
    },
    {
      "cell_type": "code",
      "source": [
        "len(words)"
      ],
      "metadata": {
        "colab": {
          "base_uri": "https://localhost:8080/"
        },
        "id": "4NhI5cm_SjGw",
        "outputId": "d09230a6-2c5e-47ca-b813-7bd2671afa1b"
      },
      "execution_count": 4,
      "outputs": [
        {
          "output_type": "execute_result",
          "data": {
            "text/plain": [
              "466550"
            ]
          },
          "metadata": {},
          "execution_count": 4
        }
      ]
    },
    {
      "cell_type": "code",
      "source": [
        "min(len(word) for word in words)"
      ],
      "metadata": {
        "colab": {
          "base_uri": "https://localhost:8080/"
        },
        "id": "eXN7qxPLSnuY",
        "outputId": "6065259d-e114-4c1d-b99e-f4fc64afda7b"
      },
      "execution_count": 5,
      "outputs": [
        {
          "output_type": "execute_result",
          "data": {
            "text/plain": [
              "1"
            ]
          },
          "metadata": {},
          "execution_count": 5
        }
      ]
    },
    {
      "cell_type": "code",
      "source": [
        "max(len(word) for word in words)"
      ],
      "metadata": {
        "colab": {
          "base_uri": "https://localhost:8080/"
        },
        "id": "OmS3TVqOSq-h",
        "outputId": "e52c2033-aee2-4fe3-9207-25bad5cb17e8"
      },
      "execution_count": 6,
      "outputs": [
        {
          "output_type": "execute_result",
          "data": {
            "text/plain": [
              "45"
            ]
          },
          "metadata": {},
          "execution_count": 6
        }
      ]
    }
  ]
}